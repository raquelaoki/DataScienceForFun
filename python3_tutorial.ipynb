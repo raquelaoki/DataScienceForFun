{
 "cells": [
  {
   "cell_type": "markdown",
   "metadata": {},
   "source": [
    "# Python 3 Tutorial\n",
    "\n",
    "Author: Raquel Aoki\n",
    "## Reference: https://github.com/mGalarnyk/Python_Tutorials\n",
    "\n",
    "## Summary\n",
    "\n",
    " 1. Hello World and Strings\n",
    " 2. Simple Math \n",
    " * If, else and elif Statements\n",
    " * Lists \n",
    " * Loops \n",
    " * Tuples\n",
    " * Dictionaries \n",
    " * Sets \n",
    " * Functions\n",
    " * Libraries\n",
    " \n",
    " ## Requirements \n",
    " Jupyter Notebook \n"
   ]
  },
  {
   "cell_type": "markdown",
   "metadata": {},
   "source": [
    "## 1. Hello World and Strings"
   ]
  },
  {
   "cell_type": "code",
   "execution_count": 1,
   "metadata": {},
   "outputs": [],
   "source": [
    "#To execute the code in a cell type shift+enter \n",
    "print(\"Hello World\")"
   ]
  },
  {
   "cell_type": "code",
   "execution_count": 2,
   "metadata": {},
   "outputs": [
    {
     "name": "stdout",
     "output_type": "stream",
     "text": [
      "HeLLo WoRLD\n",
      "hello world\n",
      "HELLO WORLD\n",
      "Hello World\n"
     ]
    }
   ],
   "source": [
    "#Exploring other alternatives\n",
    "firstVariable = 'HeLLo WoRLD'\n",
    "\n",
    "#------- COMPLETE CODE HERE ----------#\n",
    "#You can press tab to open a list with functions and variables names\n",
    "print(firstVariable)  \n",
    "#------- COMPLETE CODE HERE ----------#\n",
    "print(firstVariable.lower())\n",
    "print(firstVariable.upper())\n",
    "print(firstVariable.title())"
   ]
  },
  {
   "cell_type": "code",
   "execution_count": 3,
   "metadata": {},
   "outputs": [
    {
     "name": "stdout",
     "output_type": "stream",
     "text": [
      "Help on built-in function lower:\n",
      "\n",
      "lower(...) method of builtins.str instance\n",
      "    S.lower() -> str\n",
      "    \n",
      "    Return a copy of the string S converted to lowercase.\n",
      "\n"
     ]
    }
   ],
   "source": [
    "#Use help() to check what each method does \n",
    "help(firstVariable.lower)"
   ]
  },
  {
   "cell_type": "markdown",
   "metadata": {},
   "source": [
    "## 2. Simple Math"
   ]
  },
  {
   "cell_type": "code",
   "execution_count": 4,
   "metadata": {},
   "outputs": [
    {
     "data": {
      "text/plain": [
       "7.0"
      ]
     },
     "execution_count": 4,
     "metadata": {},
     "output_type": "execute_result"
    }
   ],
   "source": [
    "#Addition (+), Subtraction (-), product (*), division (/)\n",
    "3*3-(2+2)/2"
   ]
  },
  {
   "cell_type": "code",
   "execution_count": 5,
   "metadata": {},
   "outputs": [
    {
     "data": {
      "text/plain": [
       "9"
      ]
     },
     "execution_count": 5,
     "metadata": {},
     "output_type": "execute_result"
    }
   ],
   "source": [
    "#Exponentiation \n",
    "3**2"
   ]
  },
  {
   "cell_type": "code",
   "execution_count": 6,
   "metadata": {},
   "outputs": [
    {
     "name": "stdout",
     "output_type": "stream",
     "text": [
      "Interger division of 7 by 3 is 2 and the remainder of the division is 1\n"
     ]
    }
   ],
   "source": [
    "#Modulo \n",
    "print(\"Interger division of 7 by 3 is\",7//3,\"and the remainder of the division is\",7%3)"
   ]
  },
  {
   "cell_type": "markdown",
   "metadata": {},
   "source": [
    "## 3. If, else and elif Statements\n",
    "\n",
    "Comparison Operators: <, <=, >, >=, ==, != \n",
    "Logical Operators: and, or, not"
   ]
  },
  {
   "cell_type": "code",
   "execution_count": 7,
   "metadata": {},
   "outputs": [
    {
     "name": "stdout",
     "output_type": "stream",
     "text": [
      "True\n",
      "3\n"
     ]
    }
   ],
   "source": [
    "#if: check if the statement. If it is True, do it; if it is False, don't do it.\n",
    "NumberTree = 3\n",
    "if NumberTree == 3:\n",
    "    print(NumberTree == 3)\n",
    "    print(NumberTree)"
   ]
  },
  {
   "cell_type": "code",
   "execution_count": 8,
   "metadata": {},
   "outputs": [],
   "source": [
    "#Nothing will be produced because it is a False Statement\n",
    "if NumberTree == 5:\n",
    "    print(NumberTree == 5)\n",
    "    print(NumberTree)"
   ]
  },
  {
   "cell_type": "code",
   "execution_count": 9,
   "metadata": {},
   "outputs": [
    {
     "name": "stdout",
     "output_type": "stream",
     "text": [
      "else output: 3\n"
     ]
    }
   ],
   "source": [
    "#We can make it print something by additing an else statement\n",
    "if NumberTree == 5:\n",
    "    print(\"if output:\",NumberTree == 5)\n",
    "    print(\"if output:\",NumberTree)\n",
    "else: \n",
    "    print(\"else output:\",NumberTree)"
   ]
  },
  {
   "cell_type": "code",
   "execution_count": 10,
   "metadata": {},
   "outputs": [
    {
     "name": "stdout",
     "output_type": "stream",
     "text": [
      "Number 3 is between 2 and 4\n",
      "Number 3 is between 2 and 4\n"
     ]
    }
   ],
   "source": [
    "#Logical Operators: allows us to have if statements with more than one condition\n",
    "\n",
    "#This if statement...  \n",
    "if NumberTree>2:\n",
    "    if NumberTree<4:\n",
    "        print(\"Number 3 is between 2 and 4\")\n",
    "    \n",
    "#...is equal to\n",
    "if NumberTree>2 and NumberTree<4:\n",
    "    print(\"Number 3 is between 2 and 4\")"
   ]
  },
  {
   "cell_type": "code",
   "execution_count": 11,
   "metadata": {},
   "outputs": [
    {
     "name": "stdout",
     "output_type": "stream",
     "text": [
      "The variable NumberTree is equal 3 OR 5\n"
     ]
    }
   ],
   "source": [
    "if NumberTree == 3 or NumberTree == 5: \n",
    "    print('The variable NumberTree is equal 3 OR 5')"
   ]
  },
  {
   "cell_type": "code",
   "execution_count": 12,
   "metadata": {},
   "outputs": [
    {
     "name": "stdout",
     "output_type": "stream",
     "text": [
      "NumberTree is equal to 3\n"
     ]
    }
   ],
   "source": [
    "#elif: check multiple expressions for a True statement. It MUST be after an if statement. \n",
    "if NumberTree==1:\n",
    "    print(\"NumberTree is equal to 1\")\n",
    "elif NumberTree==2:\n",
    "    print(\"NumberTree is equal to 2\")\n",
    "elif NumberTree==3:\n",
    "    print(\"NumberTree is equal to 3\")\n",
    "elif NumberTree==4:\n",
    "    print(\"NumberTree is equal to 4\")\n",
    "else:\n",
    "    print(\"NumberTree is bigger than 4\")\n",
    "    "
   ]
  },
  {
   "cell_type": "markdown",
   "metadata": {},
   "source": [
    "## 4. Lists"
   ]
  },
  {
   "cell_type": "code",
   "execution_count": 13,
   "metadata": {},
   "outputs": [
    {
     "name": "stdout",
     "output_type": "stream",
     "text": [
      "mylist: [4, 9, 15, 25]\n",
      "Size of mylist: 4\n",
      "First element: 4\n",
      "Last element: 25\n",
      "[4, 9]\n",
      "[4, 9]\n",
      "[15, 25]\n"
     ]
    }
   ],
   "source": [
    "#Creating a list: the elements needs to be inside [] and separated by ','\n",
    "mylist = [4,9,15,25]\n",
    "print('mylist:',mylist)\n",
    "\n",
    "#Use the command len() to check the size of the list\n",
    "print('Size of mylist:',len(mylist))\n",
    "\n",
    "#The index of lists in Python starts from 0\n",
    "print('First element:',mylist[0])\n",
    "\n",
    "#You can also use negative index, the last position starts on -1\n",
    "print('Last element:',mylist[-1])\n",
    "\n",
    "#Use index_start:index_end to slice the list\n",
    "#mylist[0:2] -> elements on my list starting at position 0 and ending on position before 2 (aka position 1)\n",
    "print(mylist[0:2])\n",
    "#another common slices options\n",
    "print(mylist[:2])\n",
    "print(mylist[2:])"
   ]
  },
  {
   "cell_type": "code",
   "execution_count": 14,
   "metadata": {},
   "outputs": [
    {
     "name": "stdout",
     "output_type": "stream",
     "text": [
      "Old Values: [4, 9, 15, 25]\n",
      "New Values: [4, 9, 16, 25]\n"
     ]
    }
   ],
   "source": [
    "#Updating values\n",
    "print('Old Values:', mylist)\n",
    "mylist[2] = 16\n",
    "print('New Values:', mylist)\n",
    "\n"
   ]
  },
  {
   "cell_type": "code",
   "execution_count": 15,
   "metadata": {},
   "outputs": [
    {
     "name": "stdout",
     "output_type": "stream",
     "text": [
      "Count of elements 4 in mylist: 1\n",
      "random: [16, 9, 25, 4]\n",
      "sorted: [4, 9, 16, 25]\n"
     ]
    }
   ],
   "source": [
    "#Counting how my times an element appears on a list\n",
    "print(\"Count of elements 4 in mylist:\",mylist.count(4))\n",
    "\n",
    "#We can also use the method sort() to sort the list\n",
    "mylist = [16,9,25,4]\n",
    "print(\"random:\", mylist)\n",
    "mylist.sort()\n",
    "print(\"sorted:\",mylist)"
   ]
  },
  {
   "cell_type": "code",
   "execution_count": 16,
   "metadata": {},
   "outputs": [
    {
     "name": "stdout",
     "output_type": "stream",
     "text": [
      "Mix datatypes: [4, 9, 16, '5*5']\n",
      "Removing the 5*5 element: [4, 9, 16]\n",
      "Adding the 5*5 element: [4, 9, 16, 25]\n",
      "Removing element on index 2: [4, 9, 25]\n",
      "Adding element 16 on index 2: [4, 9, 16, 25]\n"
     ]
    }
   ],
   "source": [
    "#Attention: in python you can mix different datatypes in a list, but this might result in errors depending on the operations \n",
    "mylist[3] = \"5*5\"\n",
    "print('Mix datatypes:',mylist)\n",
    "\n",
    "#Remove an item from a list -> .remove(element)\n",
    "mylist.remove('5*5')\n",
    "print(\"Removing the 5*5 element:\", mylist)\n",
    "\n",
    "#Adding an item in a list -> .append(new_element)\n",
    "mylist.append(5*5)\n",
    "print(\"Adding the 5*5 element:\",mylist)\n",
    "\n",
    "#Removing an item using index -> .pop(index)\n",
    "mylist.pop(2)\n",
    "print('Removing element on index 2:', mylist)\n",
    "\n",
    "#Adding an element using index -> .insert(index,element)\n",
    "mylist.insert(2,16)\n",
    "print('Adding element 16 on index 2:', mylist)\n"
   ]
  },
  {
   "cell_type": "markdown",
   "metadata": {},
   "source": [
    "## 5. Loops"
   ]
  },
  {
   "cell_type": "code",
   "execution_count": 17,
   "metadata": {},
   "outputs": [
    {
     "name": "stdout",
     "output_type": "stream",
     "text": [
      "Option 1\n",
      "4\n",
      "9\n",
      "16\n",
      "25\n",
      "Option 2\n",
      "4\n",
      "9\n",
      "16\n",
      "25\n",
      "2 4\n",
      "3 9\n",
      "4 16\n",
      "5 25\n"
     ]
    }
   ],
   "source": [
    "#Loops in lists: \n",
    "print('Option 1')\n",
    "for item in mylist:\n",
    "    print(item)\n",
    "\n",
    "print('Option 2')\n",
    "#Loops using index: \n",
    "for item in range(len(mylist)):\n",
    "    print(mylist[item])\n",
    "\n",
    "#Loops using enumerate method\n",
    "for index, element in enumerate(mylist):\n",
    "    print(index+2,element)"
   ]
  },
  {
   "cell_type": "code",
   "execution_count": 18,
   "metadata": {},
   "outputs": [
    {
     "name": "stdout",
     "output_type": "stream",
     "text": [
      "4 is even\n",
      "9 is odd\n",
      "16 is even\n",
      "25 is odd\n"
     ]
    }
   ],
   "source": [
    "#Mixing loos and if statements \n",
    "for item in mylist:\n",
    "    if item%2==0:\n",
    "        print(item, \"is even\")\n",
    "    else: \n",
    "        print(item, \"is odd\")"
   ]
  },
  {
   "cell_type": "code",
   "execution_count": 19,
   "metadata": {},
   "outputs": [],
   "source": [
    "#While"
   ]
  },
  {
   "cell_type": "markdown",
   "metadata": {},
   "source": [
    "## 6. Tuple\n",
    "\n",
    "The difference between a tuple and a list is that after initializing a tutle, it is impossible to update individual elements. "
   ]
  },
  {
   "cell_type": "code",
   "execution_count": 20,
   "metadata": {},
   "outputs": [
    {
     "name": "stdout",
     "output_type": "stream",
     "text": [
      "<class 'tuple'>\n",
      "<class 'tuple'>\n",
      "<class 'int'>\n",
      "Option 1: (3, 5, 7, 11)\n",
      "Option 2: (3, 5, 7, 11)\n",
      "5\n",
      "(3, 5)\n"
     ]
    }
   ],
   "source": [
    "#Empty Tutle: tuples use () and lists use []\n",
    "mytuple = () \n",
    "\n",
    "#Adding ONE element to a tuple\n",
    "mytuple = (3,)\n",
    "print(type(mytuple))\n",
    "mytuple = 3,\n",
    "print(type(mytuple))\n",
    "#Attention: the item bellow is NOT a tuple\n",
    "mytuple = 3\n",
    "print(type(mytuple))\n",
    "\n",
    "#Adding elements to a tuple\n",
    "mytuple = (3,5,7,11)\n",
    "print('Option 1:', mytuple)\n",
    "mytuple = 3,5,7,11\n",
    "print('Option 2:', mytuple)\n",
    "\n",
    "#The access of elements and slices are similar to lists\n",
    "print(mytuple[1])\n",
    "print(mytuple[0:2])\n"
   ]
  },
  {
   "cell_type": "markdown",
   "metadata": {},
   "source": [
    "## 7. Dictionaries\n",
    "\n",
    "Dictionaries are used to make keys into values (lists, functions, strings)\n"
   ]
  },
  {
   "cell_type": "code",
   "execution_count": 21,
   "metadata": {},
   "outputs": [
    {
     "name": "stdout",
     "output_type": "stream",
     "text": [
      "{'yellow': 'sun', 'blue': 'sea', 'green': 'leaf', 'red': 'fire'}\n",
      "key = Yellow:  sun\n"
     ]
    }
   ],
   "source": [
    "#Defining a dictionaty name = {key: value}\n",
    "mydictionary = {'yellow':'sun', \n",
    "                'blue': 'sea', \n",
    "                'green': 'leaf', \n",
    "                'red': 'fire'}\n",
    "print(mydictionary)\n",
    "\n",
    "#Accessing values using key\n",
    "print('key = Yellow: ',mydictionary['yellow'])"
   ]
  },
  {
   "cell_type": "code",
   "execution_count": 22,
   "metadata": {},
   "outputs": [
    {
     "name": "stdout",
     "output_type": "stream",
     "text": [
      "original key = blue:  sea\n",
      "New key = blue:  ocean\n",
      "First dictionary:  {'yellow': 'sun', 'blue': 'ocean', 'green': 'leaf', 'red': 'fire'}\n",
      "New dictionary:  {'yellow': 'sun', 'blue': 'ocean', 'green': 'leaf', 'red': 'fire', 'white': 'snow'}\n",
      "Removing a key:  {'yellow': 'sun', 'blue': 'ocean', 'green': 'leaf', 'red': 'fire'}\n"
     ]
    }
   ],
   "source": [
    "#Updating a key's value\n",
    "print(\"original key = blue: \", mydictionary['blue'])\n",
    "mydictionary['blue'] = 'ocean'\n",
    "print(\"New key = blue: \", mydictionary['blue'])\n",
    "\n",
    "#Adding more keys \n",
    "print('First dictionary: ', mydictionary)\n",
    "mydictionary.update({'white':'snow'})\n",
    "print('New dictionary: ', mydictionary)\n",
    "\n",
    "#Removing a key\n",
    "del mydictionary['white']\n",
    "print('Removing a key: ', mydictionary)\n"
   ]
  },
  {
   "cell_type": "markdown",
   "metadata": {},
   "source": [
    "## 8. Sets\n",
    "\n",
    "Sets are mutable like lists, but unlike lists and tuples, sets don't have multiple occurrences of the same element. \n",
    "The elements inside a set are always sorted. "
   ]
  },
  {
   "cell_type": "code",
   "execution_count": 23,
   "metadata": {},
   "outputs": [
    {
     "name": "stdout",
     "output_type": "stream",
     "text": [
      "Creating a set from a list:  {1, 2, 3, 4}\n",
      "<class 'set'>\n",
      "{1, 2, 3, 4}\n",
      "adding elements {1, 2, 3, 4, 5}\n",
      "removing elements {2, 3, 4, 5}\n"
     ]
    }
   ],
   "source": [
    "myset = set([1,2,2,3,3,3,4,4,4,4])\n",
    "print('Creating a set from a list: ',myset)\n",
    "\n",
    "#Creating a set {} //// Remember: Creating a list [] and creating a tuple ()\n",
    "myset = {2,4,3,1}\n",
    "print(type(myset))\n",
    "print(myset)\n",
    "\n",
    "#adding elements \n",
    "myset.add(5)\n",
    "print('adding elements', myset)\n",
    "\n",
    "#removing elements \n",
    "myset.remove(1)\n",
    "print('removing elements', myset)\n"
   ]
  },
  {
   "cell_type": "code",
   "execution_count": 24,
   "metadata": {},
   "outputs": [
    {
     "name": "stdout",
     "output_type": "stream",
     "text": [
      "Union {1, 2, 3, 4, 5, 6, 7, 8, 9, 10}\n",
      "Intersection set()\n",
      "Difference {1, 3, 5, 7, 9}\n",
      "Symmetric Difference {1, 2, 3, 4, 5, 6, 7, 8, 9, 10}\n"
     ]
    }
   ],
   "source": [
    "#Sets: Union, Intersection, Difference, Symmetric Difference\n",
    "set1 = {1,3,5,7,9}\n",
    "set2 = {2,4,6,8,10}\n",
    "\n",
    "#Union between 2 sets\n",
    "print(\"Union\", set1.union(set2))\n",
    "#Intersection between 2 sets\n",
    "print('Intersection',set1.intersection(set2))\n",
    "#Difference set1 - set2\n",
    "print('Difference', set1.difference(set2))\n",
    "#Symmetric Difference: elements present in only one of the sets\n",
    "print('Symmetric Difference', set1.symmetric_difference(set2))\n"
   ]
  },
  {
   "cell_type": "code",
   "execution_count": 25,
   "metadata": {},
   "outputs": [],
   "source": [
    "## 9. Functions \n",
    "## 10. Using Libraries"
   ]
  }
 ],
 "metadata": {
  "kernelspec": {
   "display_name": "Python 3",
   "language": "python",
   "name": "python3"
  },
  "language_info": {
   "codemirror_mode": {
    "name": "ipython",
    "version": 3
   },
   "file_extension": ".py",
   "mimetype": "text/x-python",
   "name": "python",
   "nbconvert_exporter": "python",
   "pygments_lexer": "ipython3",
   "version": "3.6.3"
  }
 },
 "nbformat": 4,
 "nbformat_minor": 2
}
