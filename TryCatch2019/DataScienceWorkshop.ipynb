{
  "nbformat": 4,
  "nbformat_minor": 0,
  "metadata": {
    "colab": {
      "name": "DataScienceWorkshop.ipynb",
      "version": "0.3.2",
      "provenance": [],
      "collapsed_sections": [],
      "toc_visible": true,
      "include_colab_link": true
    },
    "language_info": {
      "codemirror_mode": {
        "name": "ipython",
        "version": 3
      },
      "file_extension": ".py",
      "mimetype": "text/x-python",
      "name": "python",
      "nbconvert_exporter": "python",
      "pygments_lexer": "ipython3",
      "version": "3.7.1"
    },
    "kernelspec": {
      "display_name": "Python 3",
      "language": "python",
      "name": "python3"
    }
  },
  "cells": [
    {
      "cell_type": "markdown",
      "metadata": {
        "id": "view-in-github",
        "colab_type": "text"
      },
      "source": [
        "<a href=\"https://colab.research.google.com/github/raquelaoki/DataScienceForFun/blob/master/TryCatch2019/DataScienceWorkshop.ipynb\" target=\"_parent\"><img src=\"https://colab.research.google.com/assets/colab-badge.svg\" alt=\"Open In Colab\"/></a>"
      ]
    },
    {
      "cell_type": "markdown",
      "metadata": {
        "id": "oP4lrmX5mHfi",
        "colab_type": "text"
      },
      "source": [
        "Presentation Link: https://docs.google.com/presentation/d/1stycVGd0RHCH9p0wX_cP_OkKFzy8PaU0SKCQWNVRYtc/edit?usp=sharing\n",
        "_________\n",
        "# Try/CATCH 2019\n",
        "\n",
        "### Raquel Aoki and Sashini Herath\n",
        "\n",
        "This Exercises is based on Professor Greg Baker class notes. \n",
        "\n",
        "## Pup Inflation: Analysing Tweets\n",
        "\n",
        "This question is heavily inspired by David H. Montgomery's Pup Inflation post. His analysis is an excellent data science task, and we will ask the same question here: has there been grade inflation on the @dog_rates Twitter, which rates the cuteness of users' dog pictures?\n",
        "\n",
        "We have the file dog_rates_tweets.csv with some of the twittes from this profile. To look for score inflation, we'll first have to make sense of the data. The necessary steps to do this:\n",
        "\n",
        "1) Load the data from the CSV into a DataFrame. (Assume a dog_rates_tweets.csv file is in the same folder as the notebook file.)\n",
        "\n",
        "2) Find tweets that contain an “/10” rating (because not all do). Extract the numeric rating. Exclude tweets that don't contain a rating.\n",
        "\n",
        "3) Remove outliers: there are a few obvious ones. Exclude rating values that are too large to make sense. (Maybe larger than 25/10?)\n",
        "\n",
        "4) Make sure the 'created_at' column is a datetime value, not a string. This is important for the plots.\n",
        "\n",
        "5) Create a scatter plot of date vs rating, so you can see what the data looks like.\n",
        "\n",
        "\n"
      ]
    },
    {
      "cell_type": "markdown",
      "metadata": {
        "id": "Pt1UWKVjdueM",
        "colab_type": "text"
      },
      "source": [
        "### Loading libraries "
      ]
    },
    {
      "cell_type": "code",
      "metadata": {
        "id": "DLCmRjD-mHfk",
        "colab_type": "code",
        "colab": {}
      },
      "source": [
        "'''\n",
        "Loading important libraries\n",
        "'''\n",
        "import pandas as pd             #dataset management\n",
        "import numpy as np              #dataset management\n",
        "import matplotlib.pyplot as plt #plot construction \n",
        "import re                       #data transformation \n",
        "import datetime                 #data transformation\n",
        "from scipy import stats         #data science model \n",
        "%matplotlib inline\n",
        "\n"
      ],
      "execution_count": 0,
      "outputs": []
    },
    {
      "cell_type": "markdown",
      "metadata": {
        "id": "QIPVzMhldx30",
        "colab_type": "text"
      },
      "source": [
        "### Routines to pre-process the dataset \n",
        "\n",
        "This regular expression extractor will look for \"n/10\" strings in the format they seem to occur in the tweets. if this is found by searching in a tweet, then the resulting match object can be used to get the numeric rating as a string, which can then be converted to a float/number. \n",
        "\n",
        "To make easier to \"exclude\" some rows from the dataframe is to return None for rating values that aren't valid ratings. "
      ]
    },
    {
      "cell_type": "code",
      "metadata": {
        "id": "Tq73yg58mHfs",
        "colab_type": "code",
        "colab": {}
      },
      "source": [
        "'''\n",
        "Routine to extract the rating\n",
        "'''\n",
        "rating_re = re.compile(r'(\\d+(\\.\\d+)?)/10')\n",
        "def get_rating(text):\n",
        "    m = rating_re.search(text)\n",
        "    if m:\n",
        "        rate = float(m.group(1))\n",
        "        #return rate\n",
        "        if rate > 20:\n",
        "            return None\n",
        "        else:\n",
        "            return rate\n",
        "    else:\n",
        "        return None\n",
        "\n",
        "get_rating = np.vectorize(get_rating, otypes=[np.float])\n",
        "\n",
        "'''Routine to extract tweet time'''\n",
        "def parse_date(d):\n",
        "    return datetime.datetime.strptime(d, '%Y-%m-%d %H:%M:%S')\n",
        "\n",
        "parse_date = np.vectorize(parse_date, otypes=[np.object_])\n"
      ],
      "execution_count": 0,
      "outputs": []
    },
    {
      "cell_type": "markdown",
      "metadata": {
        "id": "a7eJtwJ3d33Z",
        "colab_type": "text"
      },
      "source": [
        "### Loading the dataset"
      ]
    },
    {
      "cell_type": "code",
      "metadata": {
        "id": "9J9pEu9imHft",
        "colab_type": "code",
        "colab": {}
      },
      "source": [
        "'''\n",
        "Loading the dataset\n",
        "'''\n",
        "data = pd.read_csv('/dog_rates_tweets.csv', parse_dates=[1])\n",
        "data.shape # rows x columns \n"
      ],
      "execution_count": 0,
      "outputs": []
    },
    {
      "cell_type": "markdown",
      "metadata": {
        "id": "OVgkLI6jd7zw",
        "colab_type": "text"
      },
      "source": [
        "### Transforming the dataset"
      ]
    },
    {
      "cell_type": "code",
      "metadata": {
        "id": "18P2ys_obE6g",
        "colab_type": "code",
        "outputId": "1e06ec37-0440-4654-c299-53d5fe2aedaa",
        "colab": {
          "base_uri": "https://localhost:8080/",
          "height": 680
        }
      },
      "source": [
        "'''Checking the dataset'''\n",
        "print(data.head())\n",
        "\n",
        "'''Extracting the rating'''\n",
        "data['rating'] = get_rating(data['text']) \n",
        "print('\\n\\nDataset with new column')\n",
        "print(data.head(10))\n"
      ],
      "execution_count": 0,
      "outputs": [
        {
          "output_type": "stream",
          "text": [
            "                   id          created_at  \\\n",
            "0  994677639364403200 2018-05-10 20:36:44   \n",
            "1  994364904978239488 2018-05-09 23:54:02   \n",
            "2  994363623421153280 2018-05-09 23:48:56   \n",
            "3  994336722875047936 2018-05-09 22:02:03   \n",
            "4  994024065982717952 2018-05-09 01:19:40   \n",
            "\n",
            "                                                text  rating  \n",
            "0            b'@Steff88979267 tell them to h*ck off'     NaN  \n",
            "1                       b'@NFLOwnerGBP take it back'     NaN  \n",
            "2  b'This is Louie. He has misplaced his Cheerio....    14.0  \n",
            "3       b'@rachaellanaghan \\xe2\\x9d\\xa4\\xef\\xb8\\x8f'     NaN  \n",
            "4  b'This is Captain Jack Wobbles. He is currentl...     NaN  \n",
            "\n",
            "\n",
            "Dataset with new column\n",
            "                   id          created_at  \\\n",
            "0  994677639364403200 2018-05-10 20:36:44   \n",
            "1  994364904978239488 2018-05-09 23:54:02   \n",
            "2  994363623421153280 2018-05-09 23:48:56   \n",
            "3  994336722875047936 2018-05-09 22:02:03   \n",
            "4  994024065982717952 2018-05-09 01:19:40   \n",
            "5  993944355051376640 2018-05-08 20:02:55   \n",
            "6  993889355365257217 2018-05-08 16:24:22   \n",
            "7  993889039714578432 2018-05-08 16:23:07   \n",
            "8  993629544463642624 2018-05-07 23:11:58   \n",
            "9  993551676568195072 2018-05-07 18:02:33   \n",
            "\n",
            "                                                text  rating  \n",
            "0            b'@Steff88979267 tell them to h*ck off'     NaN  \n",
            "1                       b'@NFLOwnerGBP take it back'     NaN  \n",
            "2  b'This is Louie. He has misplaced his Cheerio....    14.0  \n",
            "3       b'@rachaellanaghan \\xe2\\x9d\\xa4\\xef\\xb8\\x8f'     NaN  \n",
            "4  b'This is Captain Jack Wobbles. He is currentl...     NaN  \n",
            "5  b'@shanestewart89 @darth who\\xe2\\x80\\x99s the ...     NaN  \n",
            "6      b'@darth WHO SAID HE WASN\\xe2\\x80\\x99T DARTH'     NaN  \n",
            "7  b'This is Manny. He hasn\\xe2\\x80\\x99t seen you...    13.0  \n",
            "8  b'This is Libby. She leap. 14/10\\n(IG: libbyth...    14.0  \n",
            "9  b'@Wibblywobblykid no dollar sign just the who...     NaN  \n"
          ],
          "name": "stdout"
        }
      ]
    },
    {
      "cell_type": "markdown",
      "metadata": {
        "id": "MqFIdpcqgRlB",
        "colab_type": "text"
      },
      "source": [
        "The spicy.stats.linregress function can do a linear regression for us, but it works on numbers, not datatime objects. Datetime objects have a .timestamp() method that will give us a number (of seconds after a specific point), but we need to get that into our data before using it.  If you write a function to_timestamp then you can do: "
      ]
    },
    {
      "cell_type": "code",
      "metadata": {
        "id": "Q-2khujWsKev",
        "colab_type": "code",
        "outputId": "2e01531f-2651-4ee8-8610-e166c9b41c0c",
        "colab": {
          "base_uri": "https://localhost:8080/",
          "height": 323
        }
      },
      "source": [
        "print('Dataset size:', data.shape)\n",
        "\n",
        "'''Removing lines that dont have ratings'''\n",
        "data = data[data['rating'].notnull()] \n",
        "print('New dataset size:', data.shape)\n",
        "\n",
        "'''Organazing the time'''\n",
        "data['timestamp'] = data['created_at'].apply(lambda d: d.timestamp())\n",
        "\n",
        "print('\\n\\nNew Dataset')\n",
        "print(data.head())\n",
        "\n"
      ],
      "execution_count": 0,
      "outputs": [
        {
          "output_type": "stream",
          "text": [
            "Dataset size: (5815, 4)\n",
            "New dataset size: (1568, 4)\n",
            "\n",
            "\n",
            "New Dataset\n",
            "                    id          created_at  \\\n",
            "2   994363623421153280 2018-05-09 23:48:56   \n",
            "7   993889039714578432 2018-05-08 16:23:07   \n",
            "8   993629544463642624 2018-05-07 23:11:58   \n",
            "24  992198572664860672 2018-05-04 00:25:48   \n",
            "30  991744041351090177 2018-05-02 18:19:39   \n",
            "\n",
            "                                                 text  rating     timestamp  \n",
            "2   b'This is Louie. He has misplaced his Cheerio....    14.0  1.525910e+09  \n",
            "7   b'This is Manny. He hasn\\xe2\\x80\\x99t seen you...    13.0  1.525797e+09  \n",
            "8   b'This is Libby. She leap. 14/10\\n(IG: libbyth...    14.0  1.525735e+09  \n",
            "24  b'This is Rosie. She thought Coachella was thi...    13.0  1.525394e+09  \n",
            "30  b'This is Riley. He\\xe2\\x80\\x99ll be your chau...    13.0  1.525285e+09  \n"
          ],
          "name": "stdout"
        }
      ]
    },
    {
      "cell_type": "markdown",
      "metadata": {
        "id": "sAsiCF2-eBTx",
        "colab_type": "text"
      },
      "source": [
        "### Fitting the model\n",
        "\n",
        "You can then use linregress to get a slope and intercept for a best fit line. "
      ]
    },
    {
      "cell_type": "code",
      "metadata": {
        "id": "RAWAtHJSmHfv",
        "colab_type": "code",
        "outputId": "6159c9f6-087c-4833-d2e3-c9cd32b29b05",
        "colab": {
          "base_uri": "https://localhost:8080/",
          "height": 34
        }
      },
      "source": [
        "fit = stats.linregress(data['timestamp'], data['rating'])\n",
        "data['prediction'] = data['timestamp']*fit.slope + fit.intercept\n",
        "fit.slope, fit.intercept"
      ],
      "execution_count": 0,
      "outputs": [
        {
          "output_type": "execute_result",
          "data": {
            "text/plain": [
              "(4.56509413668822e-08, -55.95318015002793)"
            ]
          },
          "metadata": {
            "tags": []
          },
          "execution_count": 58
        }
      ]
    },
    {
      "cell_type": "markdown",
      "metadata": {
        "id": "CqvR0hQleGEE",
        "colab_type": "text"
      },
      "source": [
        "### Creating the graphic \n",
        "\n",
        "To plot the best-fit line, the  values must be datetime objects, not the timestamps. To add the best-fit line, you can plot data['created_at'] against data['timestamp']*fit.slope + fit.intercept to get a fit line (assuming you stored the results of linregress in a variable fit)."
      ]
    },
    {
      "cell_type": "code",
      "metadata": {
        "id": "2jj1zVb9mHfx",
        "colab_type": "code",
        "outputId": "fd66235e-5f15-44b2-f560-3b269c03be3e",
        "colab": {
          "base_uri": "https://localhost:8080/",
          "height": 407
        }
      },
      "source": [
        "\n",
        "plt.xticks(rotation=25)\n",
        "plt.plot(data['created_at'], data['rating'], 'b.', alpha=0.5)\n",
        "plt.plot(data['created_at'], data['prediction'], 'r-', linewidth=3)\n",
        "plt.show()"
      ],
      "execution_count": 0,
      "outputs": [
        {
          "output_type": "stream",
          "text": [
            "/usr/local/lib/python3.6/dist-packages/pandas/plotting/_converter.py:129: FutureWarning: Using an implicitly registered datetime converter for a matplotlib plotting method. The converter was registered by pandas on import. Future versions of pandas will require you to explicitly register matplotlib converters.\n",
            "\n",
            "To register the converters:\n",
            "\t>>> from pandas.plotting import register_matplotlib_converters\n",
            "\t>>> register_matplotlib_converters()\n",
            "  warnings.warn(msg, FutureWarning)\n"
          ],
          "name": "stderr"
        },
        {
          "output_type": "display_data",
          "data": {
            "image/png": "[encoded data removed]",
            "text/plain": [
              "<Figure size 432x288 with 1 Axes>"
            ]
          },
          "metadata": {
            "tags": []
          }
        }
      ]
    },
    {
      "cell_type": "markdown",
      "metadata": {
        "id": "TockhhrSeIsl",
        "colab_type": "text"
      },
      "source": [
        "### Questions\n",
        "\n",
        "\n",
        "1.   In the hint above, describe the values that are the result of data['timestamp']*fit.slope + fit.intercept? How is this calculated?\n",
        "2.   In the same hint, why does this produce a fit line on the graph? Why are the created_at values and timestamp values paired correctly to make points on the plot?\n",
        "\n"
      ]
    }
  ]
}