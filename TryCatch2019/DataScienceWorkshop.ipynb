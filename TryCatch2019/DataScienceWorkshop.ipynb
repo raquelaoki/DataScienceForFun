{
 "cells": [
  {
   "cell_type": "markdown",
   "metadata": {},
   "source": [
    "Todo list: \n",
    "1) Create a template or slide to explain how to download from github, open jupyter and manage files\n",
    "2) Show the twitter profile and how they work\n",
    "_________\n",
    "# Try/CATCH 2019\n",
    "\n",
    "### Raquel Aoki and Sashini Herath\n",
    "\n",
    "This Exercises is based on Professor Greg Baker class notes. \n",
    "\n",
    "## Pup Inflation: Analysing Tweets\n",
    "\n",
    "This question is heavily inspired by David H. Montgomery's Pup Inflation post. His analysis is an excellent data science task, and we will ask the same question here: has there been grade inflation on the @dog_rates Twitter, which rates the cuteness of users' dog pictures?\n",
    "\n",
    "We have the file dog_rates_tweets.csv with some of the twittes from this profile. To look for score inflation, we'll first have to make sense of the data. The necessary steps to do this:\n",
    "\n",
    "1) Load the data from the CSV into a DataFrame. (Assume a dog_rates_tweets.csv file is in the same folder as the notebook file.)\n",
    "2) Find tweets that contain an “/10” rating (because not all do). Extract the numeric rating. Exclude tweets that don't contain a rating.\n",
    "3) Remove outliers: there are a few obvious ones. Exclude rating values that are too large to make sense. (Maybe larger than 25/10?)\n",
    "4) Make sure the 'created_at' column is a datetime value, not a string. This is important for the plots.\n",
    "5) Create a scatter plot of date vs rating, so you can see what the data looks like.\n",
    "\n",
    "#### 1) Loading the file\n",
    "\n"
   ]
  },
  {
   "cell_type": "code",
   "execution_count": 12,
   "metadata": {},
   "outputs": [],
   "source": [
    "#this is how we add comands on python \n",
    "import pandas as pd #here we are loading a library to help as manage the dataset \n",
    "\n",
    "import numpy as np\n",
    "import matplotlib.pyplot as plt\n",
    "import pandas as pd\n",
    "import re\n",
    "import datetime\n",
    "from scipy import stats\n",
    "%matplotlib inline\n",
    "from jupyterthemes import jtplot\n",
    "jtplot.style('grade3')\n",
    "\n",
    "\n",
    "#filename = 'pagecounts-20160802-150000.txt'\n",
    "\n",
    "#Reading the table in python \n",
    "#data = pd.read_table(filename, sep = ' ', header = None, index_col=1, \n",
    "         #            names = ['lang', 'page','views','bytes'])"
   ]
  },
  {
   "cell_type": "code",
   "execution_count": 4,
   "metadata": {},
   "outputs": [
    {
     "data": {
      "text/html": [
       "<div>\n",
       "<style scoped>\n",
       "    .dataframe tbody tr th:only-of-type {\n",
       "        vertical-align: middle;\n",
       "    }\n",
       "\n",
       "    .dataframe tbody tr th {\n",
       "        vertical-align: top;\n",
       "    }\n",
       "\n",
       "    .dataframe thead th {\n",
       "        text-align: right;\n",
       "    }\n",
       "</style>\n",
       "<table border=\"1\" class=\"dataframe\">\n",
       "  <thead>\n",
       "    <tr style=\"text-align: right;\">\n",
       "      <th></th>\n",
       "      <th>lang</th>\n",
       "      <th>views</th>\n",
       "      <th>bytes</th>\n",
       "    </tr>\n",
       "    <tr>\n",
       "      <th>page</th>\n",
       "      <th></th>\n",
       "      <th></th>\n",
       "      <th></th>\n",
       "    </tr>\n",
       "  </thead>\n",
       "  <tbody>\n",
       "    <tr>\n",
       "      <th>Nowogr%C3%B3d</th>\n",
       "      <td>en</td>\n",
       "      <td>1</td>\n",
       "      <td>12375</td>\n",
       "    </tr>\n",
       "    <tr>\n",
       "      <th>Lichfield</th>\n",
       "      <td>en</td>\n",
       "      <td>10</td>\n",
       "      <td>757739</td>\n",
       "    </tr>\n",
       "    <tr>\n",
       "      <th>Formula_Pacific</th>\n",
       "      <td>en</td>\n",
       "      <td>2</td>\n",
       "      <td>196062</td>\n",
       "    </tr>\n",
       "    <tr>\n",
       "      <th>Yellow_longnose_butterflyfish</th>\n",
       "      <td>en</td>\n",
       "      <td>1</td>\n",
       "      <td>13900</td>\n",
       "    </tr>\n",
       "    <tr>\n",
       "      <th>2005_Birmingham_riots</th>\n",
       "      <td>en</td>\n",
       "      <td>1</td>\n",
       "      <td>15352</td>\n",
       "    </tr>\n",
       "  </tbody>\n",
       "</table>\n",
       "</div>"
      ],
      "text/plain": [
       "                              lang  views   bytes\n",
       "page                                             \n",
       "Nowogr%C3%B3d                   en      1   12375\n",
       "Lichfield                       en     10  757739\n",
       "Formula_Pacific                 en      2  196062\n",
       "Yellow_longnose_butterflyfish   en      1   13900\n",
       "2005_Birmingham_riots           en      1   15352"
      ]
     },
     "execution_count": 4,
     "metadata": {},
     "output_type": "execute_result"
    }
   ],
   "source": [
    "#In order to check if the dataset was loaded, use the following command: \n",
    "data.head()\n",
    "#You should a small dataset, with 5 rows and 4 columns "
   ]
  },
  {
   "cell_type": "code",
   "execution_count": 5,
   "metadata": {},
   "outputs": [],
   "source": [
    "rating_re = re.compile(r'(\\d+(\\.\\d+)?)/10')\n",
    "def get_rating(text):\n",
    "    m = rating_re.search(text)\n",
    "    if m:\n",
    "        rate = float(m.group(1))\n",
    "        #return rate\n",
    "        if rate > 20:\n",
    "            return None\n",
    "        else:\n",
    "            return rate\n",
    "    else:\n",
    "        return None\n",
    "\n",
    "get_rating = np.vectorize(get_rating, otypes=[np.float])\n",
    "\n",
    "def parse_date(d):\n",
    "    return datetime.datetime.strptime(d, '%Y-%m-%d %H:%M:%S')\n",
    "\n",
    "parse_date = np.vectorize(parse_date, otypes=[np.object_])\n"
   ]
  },
  {
   "cell_type": "code",
   "execution_count": 6,
   "metadata": {},
   "outputs": [],
   "source": [
    "data = pd.read_csv('dog_rates_tweets.csv', parse_dates=[1])\n",
    "data['rating'] = get_rating(data['text'])\n",
    "data = data[data['rating'].notnull()]\n",
    "data['timestamp'] = data['created_at'].apply(lambda d: d.timestamp())\n",
    "fit = stats.linregress(data['timestamp'], data['rating'])"
   ]
  },
  {
   "cell_type": "code",
   "execution_count": 7,
   "metadata": {},
   "outputs": [
    {
     "data": {
      "text/plain": [
       "(4.565094136688219e-08, -55.95318015002792)"
      ]
     },
     "execution_count": 7,
     "metadata": {},
     "output_type": "execute_result"
    }
   ],
   "source": [
    "data['prediction'] = data['timestamp']*fit.slope + fit.intercept\n",
    "fit.slope, fit.intercept"
   ]
  },
  {
   "cell_type": "code",
   "execution_count": 21,
   "metadata": {},
   "outputs": [
    {
     "data": {
      "image/png": "[encoded data removed]",
      "text/plain": [
       "<Figure size 460.8x403.2 with 1 Axes>"
      ]
     },
     "metadata": {},
     "output_type": "display_data"
    }
   ],
   "source": [
    "\n",
    "plt.xticks(rotation=25)\n",
    "plt.plot(data['created_at'], data['rating'], 'b.', alpha=0.5)\n",
    "plt.plot(data['created_at'], data['prediction'], 'r-', linewidth=3)\n",
    "plt.show()"
   ]
  }
 ],
 "metadata": {
  "kernelspec": {
   "display_name": "Python 3",
   "language": "python",
   "name": "python3"
  },
  "language_info": {
   "codemirror_mode": {
    "name": "ipython",
    "version": 3
   },
   "file_extension": ".py",
   "mimetype": "text/x-python",
   "name": "python",
   "nbconvert_exporter": "python",
   "pygments_lexer": "ipython3",
   "version": "3.7.1"
  }
 },
 "nbformat": 4,
 "nbformat_minor": 2
}
